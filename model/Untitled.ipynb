{
 "cells": [
  {
   "cell_type": "code",
   "execution_count": 5,
   "id": "f18cee30-af08-49fb-979b-bb5d914a8fac",
   "metadata": {},
   "outputs": [
    {
     "name": "stdout",
     "output_type": "stream",
     "text": [
      "✅ PCA transformation complete. Transformed dataset saved as 'pca_transformed.csv'\n"
     ]
    }
   ],
   "source": [
    "import pandas as pd\n",
    "from sklearn.preprocessing import StandardScaler\n",
    "from sklearn.decomposition import PCA\n",
    "\n",
    "# Step 1: Load the dataset\n",
    "df = pd.read_csv(r\"C:\\Users\\ASUS\\Desktop\\MINI_project\\Data_p\\preprocessed.csv\")\n",
    "\n",
    "# Optional: check if there's a label column and separate it\n",
    "# Uncomment and adjust this line if you have a label column, e.g., 'target'\n",
    "# labels = df['target']\n",
    "# df = df.drop('target', axis=1)\n",
    "\n",
    "# Step 2: Standardize the features\n",
    "scaler = StandardScaler()\n",
    "scaled_data = scaler.fit_transform(df)\n",
    "\n",
    "# Step 3: Apply PCA\n",
    "# You can specify n_components (e.g., n_components=2 for 2D reduction)\n",
    "pca = PCA()  # To retain all components\n",
    "pca_data = pca.fit_transform(scaled_data)\n",
    "\n",
    "# Step 4: Convert PCA result to DataFrame\n",
    "pca_df = pd.DataFrame(pca_data, columns=[f'PC{i+1}' for i in range(pca_data.shape[1])])\n",
    "\n",
    "# Optional: add labels back if applicable\n",
    "# pca_df['target'] = labels.values\n",
    "\n",
    "# Step 5: Save PCA-transformed data\n",
    "pca_df.to_csv(r\"C:\\Users\\ASUS\\Desktop\\MINI_project\\Data_p\\pca_transformed.csv\", index=False)\n",
    "\n",
    "\n",
    "print(\"✅ PCA transformation complete. Transformed dataset saved as 'pca_transformed.csv'\")\n"
   ]
  },
  {
   "cell_type": "code",
   "execution_count": null,
   "id": "f29662cb-65c2-4d2d-9550-698358b77fd9",
   "metadata": {},
   "outputs": [],
   "source": []
  }
 ],
 "metadata": {
  "kernelspec": {
   "display_name": "Python 3 (ipykernel)",
   "language": "python",
   "name": "python3"
  },
  "language_info": {
   "codemirror_mode": {
    "name": "ipython",
    "version": 3
   },
   "file_extension": ".py",
   "mimetype": "text/x-python",
   "name": "python",
   "nbconvert_exporter": "python",
   "pygments_lexer": "ipython3",
   "version": "3.12.3"
  }
 },
 "nbformat": 4,
 "nbformat_minor": 5
}
