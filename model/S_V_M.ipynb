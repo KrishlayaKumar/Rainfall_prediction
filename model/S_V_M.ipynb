{
 "cells": [
  {
   "cell_type": "code",
   "execution_count": null,
   "id": "9ba85c77-80f9-41f8-af2c-f3d240f5295b",
   "metadata": {},
   "outputs": [],
   "source": [
    "import pandas as pd\n",
    "import numpy as np\n",
    "from sklearn.model_selection import train_test_split\n",
    "from sklearn.svm import SVC\n",
    "from sklearn.metrics import (\n",
    "    accuracy_score, precision_score, recall_score, f1_score,\n",
    "    roc_auc_score, classification_report, confusion_matrix, roc_curve\n",
    ")\n",
    "from imblearn.metrics import geometric_mean_score\n",
    "import matplotlib.pyplot as plt\n",
    "\n",
    "# Load preprocessed dataset\n",
    "df = pd.read_csv(\"C:/Users/ASUS/Desktop/MINI_project/Data_p/preprocessed.csv\")\n",
    "\n",
    "# Drop unnecessary column\n",
    "df.drop(columns=[\"RISK_MM\"], inplace=True)\n",
    "\n",
    "# Define features and target\n",
    "X = df.drop(\"RainTomorrow\", axis=1)\n",
    "y = df[\"RainTomorrow\"].astype(int)\n",
    "\n",
    "# Train/test split\n",
    "X_train, X_test, y_train, y_test = train_test_split(X, y, test_size=0.2, random_state=42)"
   ]
  },
  {
   "cell_type": "code",
   "execution_count": null,
   "id": "f5b6c437-2b92-4059-ba10-e15d0192f1ae",
   "metadata": {},
   "outputs": [],
   "source": [
    "# List of kernels to test\n",
    "kernels = ['linear', 'poly', 'rbf', 'sigmoid']"
   ]
  },
  {
   "cell_type": "code",
   "execution_count": null,
   "id": "3437e122-4421-49c7-a4d2-f75036771642",
   "metadata": {},
   "outputs": [],
   "source": [
    "for kernel in kernels:\n",
    "    print(f\"\\n--- Kernel: {kernel.upper()} ---\")\n",
    "\n",
    "    # Train the model\n",
    "    model = SVC(kernel=kernel, probability=True, random_state=42)\n",
    "    model.fit(X_train, y_train)\n",
    "\n",
    "    # Predict\n",
    "    y_pred = model.predict(X_test)\n",
    "    y_proba = model.predict_proba(X_test)[:, 1]\n",
    "\n",
    "    # Metrics\n",
    "    acc = accuracy_score(y_test, y_pred)\n",
    "    prec_1 = precision_score(y_test, y_pred, pos_label=1)\n",
    "    prec_0 = precision_score(y_test, y_pred, pos_label=0)\n",
    "    rec_1 = recall_score(y_test, y_pred, pos_label=1)\n",
    "    rec_0 = recall_score(y_test, y_pred, pos_label=0)\n",
    "    f1_1 = f1_score(y_test, y_pred, pos_label=1)\n",
    "    f1_0 = f1_score(y_test, y_pred, pos_label=0)\n",
    "    gmean = geometric_mean_score(y_test, y_pred)\n",
    "    auc = roc_auc_score(y_test, y_proba)\n",
    "    cm = confusion_matrix(y_test, y_pred)\n",
    "\n",
    "    # Output metrics\n",
    "    print(f\"Accuracy      : {acc:.2f}\")\n",
    "    print(f\"Precision (1) : {prec_1:.2f}\")\n",
    "    print(f\"Precision (0) : {prec_0:.2f}\")\n",
    "    print(f\"Recall (1)    : {rec_1:.2f}\")\n",
    "    print(f\"Recall (0)    : {rec_0:.2f}\")\n",
    "    print(f\"F1 Score (1)  : {f1_1:.2f}\")\n",
    "    print(f\"F1 Score (0)  : {f1_0:.2f}\")\n",
    "    print(f\"G-Mean        : {gmean:.2f}\")\n",
    "    print(f\"ROC AUC Score : {auc:.2f}\")\n",
    "    print(\"\\nConfusion Matrix:\\n\", cm)\n",
    "    print(\"\\nClassification Report:\\n\", classification_report(y_test, y_pred))\n",
    "\n",
    "    # Plot ROC Curve\n",
    "    fpr, tpr, _ = roc_curve(y_test, y_proba)\n",
    "    plt.figure(figsize=(6, 5))\n",
    "    plt.plot(fpr, tpr, label=f\"{kernel.upper()} (AUC = {auc:.2f})\", color='blue')\n",
    "    plt.plot([0, 1], [0, 1], 'k--')\n",
    "    plt.xlabel(\"False Positive Rate\")\n",
    "    plt.ylabel(\"True Positive Rate\")\n",
    "    plt.title(f\"ROC Curve - SVM ({kernel.upper()})\")\n",
    "    plt.legend()\n",
    "    plt.grid()\n",
    "    plt.show()"
   ]
  },
  {
   "cell_type": "code",
   "execution_count": null,
   "id": "69d8d2ed-aa50-4e25-aaae-7bc3ea19742c",
   "metadata": {},
   "outputs": [],
   "source": []
  }
 ],
 "metadata": {
  "kernelspec": {
   "display_name": "Python 3 (ipykernel)",
   "language": "python",
   "name": "python3"
  },
  "language_info": {
   "codemirror_mode": {
    "name": "ipython",
    "version": 3
   },
   "file_extension": ".py",
   "mimetype": "text/x-python",
   "name": "python",
   "nbconvert_exporter": "python",
   "pygments_lexer": "ipython3",
   "version": "3.12.3"
  }
 },
 "nbformat": 4,
 "nbformat_minor": 5
}
